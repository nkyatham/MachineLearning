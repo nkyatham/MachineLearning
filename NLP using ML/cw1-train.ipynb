{
 "cells": [
  {
   "cell_type": "markdown",
   "metadata": {},
   "source": [
    "# Coursework 1: Train a Sentiment Analysis Classifier\n",
    "In this course work, you are asked to train a sentiment analysis classifier for movie reviews. The sample code below builds a simple classifier that uses tf-idf to vectorize text and a logistic regression model to make predictions."
   ]
  },
  {
   "cell_type": "code",
   "execution_count": 4,
   "metadata": {},
   "outputs": [],
   "source": [
    "import pandas as pd\n",
    "import numpy as np\n",
    "\n",
    "from sklearn.feature_extraction.text import CountVectorizer,TfidfVectorizer\n",
    "from sklearn.pipeline import make_pipeline\n",
    "from sklearn.svm import SVC\n",
    "from sklearn.metrics import precision_recall_fscore_support,accuracy_score,confusion_matrix\n",
    "from sklearn.naive_bayes import MultinomialNB\n",
    "from sklearn.preprocessing import LabelEncoder\n",
    "from sklearn.metrics import confusion_matrix\n",
    "from sklearn.model_selection import train_test_split,GridSearchCV\n",
    "from sklearn.linear_model import LogisticRegression\n",
    "\n",
    "import matplotlib.pyplot as plt\n",
    "\n",
    "from nltk.corpus import stopwords\n",
    "from nltk.stem import PorterStemmer,LancasterStemmer\n",
    "from nltk.tokenize import word_tokenize,TweetTokenizer\n",
    "from nltk.stem import WordNetLemmatizer\n",
    "from nltk import ConditionalFreqDist\n",
    "from nltk import FreqDist,pos_tag,ne_chunk\n",
    "\n",
    "import string\n",
    "import re\n",
    "\n",
    "import spacy\n",
    "import en_core_web_sm\n",
    "\n",
    "from wordcloud import WordCloud"
   ]
  },
  {
   "cell_type": "code",
   "execution_count": 5,
   "metadata": {},
   "outputs": [
    {
     "data": {
      "text/html": [
       "<div>\n",
       "<style scoped>\n",
       "    .dataframe tbody tr th:only-of-type {\n",
       "        vertical-align: middle;\n",
       "    }\n",
       "\n",
       "    .dataframe tbody tr th {\n",
       "        vertical-align: top;\n",
       "    }\n",
       "\n",
       "    .dataframe thead th {\n",
       "        text-align: right;\n",
       "    }\n",
       "</style>\n",
       "<table border=\"1\" class=\"dataframe\">\n",
       "  <thead>\n",
       "    <tr style=\"text-align: right;\">\n",
       "      <th></th>\n",
       "      <th>Unnamed: 0</th>\n",
       "      <th>text</th>\n",
       "      <th>sentiment</th>\n",
       "    </tr>\n",
       "  </thead>\n",
       "  <tbody>\n",
       "    <tr>\n",
       "      <th>0</th>\n",
       "      <td>0</td>\n",
       "      <td>Enjoy the opening credits. They're the best th...</td>\n",
       "      <td>neg</td>\n",
       "    </tr>\n",
       "    <tr>\n",
       "      <th>1</th>\n",
       "      <td>1</td>\n",
       "      <td>Well, the Sci-Fi channel keeps churning these ...</td>\n",
       "      <td>neg</td>\n",
       "    </tr>\n",
       "    <tr>\n",
       "      <th>2</th>\n",
       "      <td>2</td>\n",
       "      <td>It takes guts to make a movie on Gandhi in Ind...</td>\n",
       "      <td>pos</td>\n",
       "    </tr>\n",
       "    <tr>\n",
       "      <th>3</th>\n",
       "      <td>3</td>\n",
       "      <td>The Nest is really just another 'nature run am...</td>\n",
       "      <td>neg</td>\n",
       "    </tr>\n",
       "    <tr>\n",
       "      <th>4</th>\n",
       "      <td>4</td>\n",
       "      <td>Waco: Rules of Engagement does a very good job...</td>\n",
       "      <td>pos</td>\n",
       "    </tr>\n",
       "  </tbody>\n",
       "</table>\n",
       "</div>"
      ],
      "text/plain": [
       "   Unnamed: 0                                               text sentiment\n",
       "0           0  Enjoy the opening credits. They're the best th...       neg\n",
       "1           1  Well, the Sci-Fi channel keeps churning these ...       neg\n",
       "2           2  It takes guts to make a movie on Gandhi in Ind...       pos\n",
       "3           3  The Nest is really just another 'nature run am...       neg\n",
       "4           4  Waco: Rules of Engagement does a very good job...       pos"
      ]
     },
     "execution_count": 5,
     "metadata": {},
     "output_type": "execute_result"
    }
   ],
   "source": [
    "# load data and take a quick look\n",
    "raw_data = pd.read_csv('coursework1_train.csv')\n",
    "neg_reviews=raw_data[raw_data.sentiment=='neg']\n",
    "pos_reviews=raw_data[raw_data.sentiment=='pos']\n",
    "raw_data.head()"
   ]
  },
  {
   "cell_type": "code",
   "execution_count": 6,
   "metadata": {},
   "outputs": [
    {
     "name": "stdout",
     "output_type": "stream",
     "text": [
      "entry num 40000\n",
      "num of pos entries 20000\n",
      "num of neg entries 20000\n"
     ]
    }
   ],
   "source": [
    "# check the size of the data and its class distribution\n",
    "all_text = raw_data['text'].tolist()\n",
    "all_lables = raw_data['sentiment'].tolist()\n",
    "neg_text = neg_reviews['text'].tolist()\n",
    "pos_text = pos_reviews['text'].tolist()\n",
    "\n",
    "print('entry num', len(all_text))\n",
    "print('num of pos entries', len([l for l in all_lables if l=='pos']))\n",
    "print('num of neg entries', len([l for l in all_lables if l=='neg']))"
   ]
  },
  {
   "cell_type": "markdown",
   "metadata": {},
   "source": [
    "# Visualizing data"
   ]
  },
  {
   "cell_type": "markdown",
   "metadata": {},
   "source": [
    "- The data consists of reviews of various lengths for 2 class of categories namely 'pos'-'POSITIVE' and 'neg'-'Negative'.\n",
    "- Below is a histogram of length of each reviews irrespective of their class of category.\n",
    "- This is definetly the first look, which helps you to have glimpse of how large the data is."
   ]
  },
  {
   "cell_type": "code",
   "execution_count": 179,
   "metadata": {},
   "outputs": [
    {
     "data": {
      "image/png": "[encoded data removed]",
      "text/plain": [
       "<Figure size 432x288 with 1 Axes>"
      ]
     },
     "metadata": {
      "needs_background": "light"
     },
     "output_type": "display_data"
    }
   ],
   "source": [
    "plt.hist([len(all_text[i]) for i in np.arange(len(all_text))],bins=30,label='word count')\n",
    "plt.xlabel('Word count of each review')\n",
    "plt.legend()\n",
    "plt.show()"
   ]
  },
  {
   "cell_type": "markdown",
   "metadata": {},
   "source": [
    "- The plot below is a combination of length of reviews of the two classes seperately.\n",
    "- This plot helps you to summarize that length of positive reviews is pretty high compared with negative reviews, and ofcourse people tend take time and write a review of the movie they like."
   ]
  },
  {
   "cell_type": "code",
   "execution_count": 233,
   "metadata": {},
   "outputs": [
    {
     "data": {
      "image/png": "[encoded data removed]",
      "text/plain": [
       "<Figure size 432x288 with 1 Axes>"
      ]
     },
     "metadata": {
      "needs_background": "light"
     },
     "output_type": "display_data"
    }
   ],
   "source": [
    "plt.hist([len(neg_text[i]) for i in np.arange(len(neg_text))],alpha=0.5,bins=25,label='Negative')\n",
    "plt.hist([len(pos_text[j]) for j in np.arange(len(pos_text))],bins=25,alpha=0.5,label='Positive')\n",
    "plt.xlabel('Review length')\n",
    "plt.legend()\n",
    "plt.show()"
   ]
  },
  {
   "cell_type": "markdown",
   "metadata": {},
   "source": [
    "- I have seperated the dataset based on the class category and combined the reviews.\n",
    "- Tokenized [using nltk word_tokenize] all the combined reviews [conidering them a corpus of words that define negativity] and had plot the FREQUENCY DISTRIBUTION of the top 10 most common words.\n",
    "- We can see a lot of stop words and punctuations are on the top which definitely don't give any information"
   ]
  },
  {
   "cell_type": "code",
   "execution_count": 80,
   "metadata": {},
   "outputs": [
    {
     "data": {
      "image/png": "[encoded data removed]",
      "text/plain": [
       "<Figure size 432x288 with 1 Axes>"
      ]
     },
     "metadata": {
      "needs_background": "light"
     },
     "output_type": "display_data"
    },
    {
     "data": {
      "text/plain": [
       "<matplotlib.axes._subplots.AxesSubplot at 0x7ffe59ba34c0>"
      ]
     },
     "execution_count": 80,
     "metadata": {},
     "output_type": "execute_result"
    }
   ],
   "source": [
    "neg_corp=[]\n",
    "neg_corp.append(' '.join([neg_text[i] for i in np.arange(len(neg_text))]))\n",
    "neg_tokens=word_tokenize(neg_corp[0])\n",
    "fd=FreqDist(neg_tokens)\n",
    "fd.plot(10)"
   ]
  },
  {
   "cell_type": "markdown",
   "metadata": {},
   "source": [
    "- Removed stop words from the entire corpus and had plot the FREQUENCY DISTRIBUTION, but there are still some words like \"br\",\"...\",\"'s\",\"'re\" etc., that has a high frequency in the corpus.\n",
    "- words like \"'s\",\"'re\" arise due to tokenization [using nltk word_tokenize]. I have tried many different tokenizers and have come to a conclusion of using \"TweetTokenizer\" which eliminates this problem.\n",
    "- Words like \"br\",\"...\" were not handled using any of the known tokenizers, I have inserted these words manually into stop words and punctuation.\n",
    "- Above procedure gave me below plot with most common words in negative corpus."
   ]
  },
  {
   "cell_type": "code",
   "execution_count": 399,
   "metadata": {},
   "outputs": [
    {
     "data": {
      "image/png": "[encoded data removed]",
      "text/plain": [
       "<Figure size 432x288 with 1 Axes>"
      ]
     },
     "metadata": {
      "needs_background": "light"
     },
     "output_type": "display_data"
    },
    {
     "data": {
      "text/plain": [
       "<matplotlib.axes._subplots.AxesSubplot at 0x7f8d2f27afa0>"
      ]
     },
     "execution_count": 399,
     "metadata": {},
     "output_type": "execute_result"
    }
   ],
   "source": [
    "def remove_stopwords(sent_words,stop_punc):\n",
    "    return [ww for ww in sent_words \n",
    "            if ww.lower() not in stop_words and ww not in stop_punc]\n",
    "\n",
    "stop_words=set(stopwords.words('english'))\n",
    "stop_words.add('br')\n",
    "stop_punc=string.punctuation\n",
    "stop_punc=stop_punc+'...'\n",
    "neg_tokens=TweetTokenizer().tokenize(neg_corp[0])\n",
    "stop_rem_neg_tokens=remove_stopwords(neg_tokens,stop_punc)\n",
    "fd_neg=FreqDist(stop_rem_neg_tokens)\n",
    "fd_neg.plot(10)"
   ]
  },
  {
   "cell_type": "markdown",
   "metadata": {},
   "source": [
    "- Below is the same plot [using nltk word_tokenize] and followed by the plot using \"TweetTokenizer\" and stop words removal\n",
    "- Both the FREQUENCY DISTRIBUTION plots help you to distinguish between the reviews of 'Positive' and 'Negative' based on the words that appear frequently in one of the corpus and doesn't in the other."
   ]
  },
  {
   "cell_type": "code",
   "execution_count": 401,
   "metadata": {},
   "outputs": [
    {
     "data": {
      "image/png": "[encoded data removed]",
      "text/plain": [
       "<Figure size 432x288 with 1 Axes>"
      ]
     },
     "metadata": {
      "needs_background": "light"
     },
     "output_type": "display_data"
    },
    {
     "data": {
      "text/plain": [
       "<matplotlib.axes._subplots.AxesSubplot at 0x7f8d2f2913d0>"
      ]
     },
     "execution_count": 401,
     "metadata": {},
     "output_type": "execute_result"
    }
   ],
   "source": [
    "pos_corp=[]\n",
    "pos_corp.append(' '.join([pos_text[i] for i in np.arange(len(pos_text))]))\n",
    "pos_tokens=word_tokenize(pos_corp[0])\n",
    "fd_pos=FreqDist(pos_tokens)\n",
    "fd_pos.plot(10)"
   ]
  },
  {
   "cell_type": "code",
   "execution_count": 412,
   "metadata": {},
   "outputs": [
    {
     "data": {
      "image/png": "[encoded data removed]",
      "text/plain": [
       "<Figure size 432x288 with 1 Axes>"
      ]
     },
     "metadata": {
      "needs_background": "light"
     },
     "output_type": "display_data"
    },
    {
     "data": {
      "text/plain": [
       "<matplotlib.axes._subplots.AxesSubplot at 0x7f8d15e048b0>"
      ]
     },
     "execution_count": 412,
     "metadata": {},
     "output_type": "execute_result"
    }
   ],
   "source": [
    "stop_words=set(stopwords.words('english'))\n",
    "stop_words.add('br')\n",
    "stop_punc=string.punctuation\n",
    "pos_tokens=TweetTokenizer().tokenize(pos_corp[0])\n",
    "stop_rem_pos_tokens=remove_stopwords(pos_tokens,stop_punc)\n",
    "fd_pos=FreqDist(stop_rem_pos_tokens)\n",
    "fd_pos.plot(10)"
   ]
  },
  {
   "cell_type": "markdown",
   "metadata": {},
   "source": [
    "# Data Pre-processing"
   ]
  },
  {
   "cell_type": "markdown",
   "metadata": {},
   "source": [
    "- Tokenization -> Performed tokenization using \"TweetTokenizer\" as the reason mentioned before in the section of visualizing the data.\n",
    "- Stop words removal -> Performed stop words removal as they don't really contain any information that is used in building a model\n",
    "- Stemming -> Performed stemming, so as to normalize the words to their original form, but observed some inconsistencies in some words that are the most frequent and important [fantastic, movie etc.,].\n",
    "- Lemmatization -> This doesn't really make any sense using it alone without POS-Tagging. Observed the same inconsistencies as stemming."
   ]
  },
  {
   "cell_type": "markdown",
   "metadata": {},
   "source": [
    "- Looking at the word cloud image of the most frequent words after stemming has inconsistencies which can't be eliminated when used Lemmatization with pos-tagging. Better to pre-process without stemming."
   ]
  },
  {
   "cell_type": "code",
   "execution_count": 172,
   "metadata": {},
   "outputs": [
    {
     "data": {
      "text/plain": [
       "<matplotlib.image.AxesImage at 0x7ffe26eed160>"
      ]
     },
     "execution_count": 172,
     "metadata": {},
     "output_type": "execute_result"
    },
    {
     "data": {
      "image/png": "[encoded data removed]",
      "text/plain": [
       "<Figure size 432x288 with 1 Axes>"
      ]
     },
     "metadata": {
      "needs_background": "light"
     },
     "output_type": "display_data"
    }
   ],
   "source": [
    "alltext=[]\n",
    "stemmed_res=[]\n",
    "alltext=remove_stopwords(neg_tokens,stop_punc)\n",
    "stemmed_res=([porter.stem(j) for j in alltext])\n",
    "fd_stem=FreqDist(stemmed_res)\n",
    "words=fd_stem.most_common(25)\n",
    "keywords=' '.join([words[i][0] for i in range(len(words))])\n",
    "wcloud=WordCloud(width=500,background_color='white').generate(keywords)\n",
    "plt.imshow(wcloud)"
   ]
  },
  {
   "cell_type": "markdown",
   "metadata": {},
   "source": [
    "# Pre-processing data with Lemmatization and POS Tagging"
   ]
  },
  {
   "cell_type": "markdown",
   "metadata": {},
   "source": [
    "- Used Lemmatization along with Pos-Tagging which really made sense.\n",
    "- Used pos_tag from nltk, which in turn uses Penn Treebank Tagset for tagging pos, but lemmatizer has very limited tags and representation is different for Penn Treebank.\n",
    "- Defined a function that generalizes and converts into lemmatizer's representation to convert all the words into their root forms."
   ]
  },
  {
   "cell_type": "code",
   "execution_count": 8,
   "metadata": {},
   "outputs": [],
   "source": [
    "tagged=[]\n",
    "lemma_res=[]\n",
    "lemmatizer = WordNetLemmatizer()\n",
    "\n",
    "def pos_tagging(pos):\n",
    "    if pos.startswith('N'):\n",
    "        return 'n'\n",
    "    elif pos.startswith('V'):\n",
    "        return 'v'\n",
    "    elif pos =='JJ' or pos == 'JJR':\n",
    "        return 'a'\n",
    "    elif pos.startswith('R'):\n",
    "        return 'r'\n",
    "    elif pos == 'JJS':\n",
    "        return 's'\n",
    "    else:\n",
    "        return None\n",
    "    \n",
    "for i in np.arange(len(all_text)):\n",
    "    tokens=TweetTokenizer().tokenize(all_text[i])\n",
    "    alltext=remove_stopwords(tokens,stop_punc)\n",
    "    tagged =pos_tag(alltext)\n",
    "    lemma_res.append(' '.join([lemmatizer.lemmatize(k[0]) if pos_tagging(str(k[1]))==None else lemmatizer.lemmatize(k[0],pos_tagging(str(k[1]))) for k in tagged ]))"
   ]
  },
  {
   "cell_type": "code",
   "execution_count": 7,
   "metadata": {},
   "outputs": [],
   "source": [
    "def remove_stopwords(sent_words,stop_punc):\n",
    "    return [ww for ww in sent_words \n",
    "            if ww.lower() not in stop_words and ww not in stop_punc]\n",
    "\n",
    "stop_words=set(stopwords.words('english'))\n",
    "stop_words.add('br')\n",
    "stop_punc=string.punctuation\n",
    "stop_punc=stop_punc+'...'"
   ]
  },
  {
   "cell_type": "markdown",
   "metadata": {},
   "source": [
    "# Named Entity Recognition & Chunking [NLTK]"
   ]
  },
  {
   "cell_type": "markdown",
   "metadata": {},
   "source": [
    "- \"NER\" can be achieved using ne_chunk of nltk.Below is the tree representation of a single review. NER can't be achieved accurately without POS-Tagging.\n",
    "- \"NER\" is used to detect NOUN Phrases and detects to which category does it belong.\n",
    "- \"Chunking\" is used to group words to form phrases. It is used for entity detection. In this case it is very useful to group words like ['very good','really cool','very exciting' etc.,]. These are the most important words that seperate a positive review from negative.\n",
    "- This kind of pre-processing helps you extract some useful information.\n",
    "- On the end of 4th line of below tree, we can see NER tag of \"PERSON\" names. This also can be displayed using a ghost script, a perfect visualizer for trees like this. I have downloaded it, but had some issues using it."
   ]
  },
  {
   "cell_type": "code",
   "execution_count": 220,
   "metadata": {},
   "outputs": [],
   "source": [
    "pos_tagged=[]\n",
    "for i in np.arange(len(all_text)):\n",
    "    tokens=TweetTokenizer().tokenize(all_text[i])\n",
    "    alltext=remove_stopwords(tokens,stop_punc)\n",
    "    pos_tagged.append(pos_tag(alltext))"
   ]
  },
  {
   "cell_type": "code",
   "execution_count": 245,
   "metadata": {},
   "outputs": [
    {
     "data": {
      "text/plain": [
       "'Tree(\\'S\\', [Tree(\\'GPE\\', [(\\'Enjoy\\', \\'NNP\\')]), (\\'opening\\', \\'VBG\\'), (\\'credits\\', \\'NNS\\'), (\"They\\'re\", \\'NNP\\'), (\\'best\\', \\'JJS\\'), (\\'thing\\', \\'NN\\'), (\\'second-rate\\', \\'JJ\\'), (\\'inoffensive\\', \\'JJ\\'), (\\'time-killer\\', \\'NN\\'), (\\'features\\', \\'NNS\\'), (\\'passable\\', \\'JJ\\'), (\\'performances\\', \\'NNS\\'), (\\'likes\\', \\'VBZ\\'), Tree(\\'PERSON\\', [(\\'Eric\\', \\'NNP\\'), (\\'Roberts\\', \\'NNP\\'), (\\'Martin\\', \\'NNP\\'), (\\'Kove\\', \\'NNP\\')]), (\\'main\\', \\'JJ\\'), (\\'part\\', \\'NN\\'), (\\'however\\', \\'RB\\'), (\\'goes\\', \\'VBZ\\'), (\\'newcomer\\', \\'JJ\\'), Tree(\\'PERSON\\', [(\\'Tommy\\', \\'NNP\\'), (\\'Lee\\', \\'NNP\\'), (\\'Thomas\\', \\'NNP\\')]), (\\'looks\\', \\'VBZ\\'), (\\'bit\\', \\'RB\\'), (\\'diminutive\\', \\'JJ\\'), (\\'kind\\', \\'NN\\'), (\\'action\\', \\'NN\\'), (\\'nevertheless\\', \\'RB\\'), (\\'occasionally\\', \\'RB\\'), (\\'manages\\', \\'VBZ\\'), (\\'project\\', \\'JJ\\'), (\\'banty-rooster\\', \\'JJ\\'), (\\'kind\\', \\'NN\\'), (\\'belligerence\\', \\'NN\\'), (\\'first\\', \\'JJ\\'), (\\'time\\', \\'NN\\'), (\\'see\\', \\'VB\\'), (\"he\\'s\", \\'JJ\\'), (\\'bare-chested\\', \\'JJ\\'), (\\'sweaty\\', \\'NN\\'), (\\'engaged\\', \\'VBD\\'), (\\'favorite\\', \\'JJ\\'), (\\'beefcake\\', \\'NN\\'), (\\'activity\\', \\'NN\\'), (\\'chopping\\', \\'VBG\\'), (\\'wood\\', \\'NN\\'), (\\'seven\\', \\'CD\\'), (\\'scenes\\', \\'NNS\\'), (\\'without\\', \\'IN\\'), (\\'shirt\\', \\'NN\\'), (\\'including\\', \\'VBG\\'), (\\'one\\', \\'CD\\'), (\"he\\'s\", \\'NN\\'), (\\'hanged\\', \\'VBD\\'), (\\'wrists\\', \\'NNS\\'), (\\'zapped\\', \\'VBD\\'), (\\'electricity\\', \\'NN\\'), (\\'la\\', \\'NN\\'), Tree(\\'PERSON\\', [(\\'Mel\\', \\'NNP\\'), (\\'Gibson\\', \\'NNP\\'), (\\'Lethal\\', \\'NNP\\'), (\\'Weapon\\', \\'NNP\\')]), (\\'could\\', \\'MD\\'), (\\'use\\', \\'VB\\'), (\\'better\\', \\'JJR\\'), (\\'script\\', \\'NN\\'), (\\'however\\', \\'RB\\'), (\\'since\\', \\'IN\\'), (\\'manner\\', \\'NN\\'), (\\'exposes\\', \\'NNS\\'), (\\'truth\\', \\'NN\\'), (\\'corruption\\', \\'NN\\'), (\\'violence\\', \\'NN\\'), (\\'inside\\', \\'IN\\'), (\\'prison\\', \\'NN\\'), (\\'never\\', \\'RB\\'), (\\'convincing\\', \\'VBG\\'), (\"There\\'s\", \\'NNP\\'), (\\'also\\', \\'RB\\'), (\\'talk\\', \\'VBP\\'), (\\'millions\\', \\'NNS\\'), (\\'dollars\\', \\'NNS\\'), (\\'apparently\\', \\'RB\\'), (\\'tied\\', \\'VBN\\'), (\\'investigation\\', \\'NN\\'), (\\'never\\', \\'RB\\'), (\\'explained\\', \\'VBD\\'), (\\'pluses\\', \\'NNS\\'), (\\'though\\', \\'IN\\'), (\\'Sending\\', \\'NNP\\'), Tree(\\'PERSON\\', [(\\'John\\', \\'NNP\\'), (\\'Woodrow\\', \\'NNP\\')]), (\\'undercover\\', \\'RB\\'), Tree(\\'PERSON\\', [(\\'John\\', \\'NNP\\'), (\\'Wilson\\', \\'NNP\\')]), (\\'amusing\\', \\'VBG\\'), (\\'play\\', \\'NN\\'), (\\'presidential\\', \\'JJ\\'), (\\'name\\', \\'NN\\'), (\\'co-star\\', \\'NN\\'), Tree(\\'PERSON\\', [(\\'Jody\\', \\'NNP\\'), (\\'Ross\\', \\'NNP\\'), (\\'Nolan\\', \\'NNP\\')]), (\\'shows\\', \\'VBZ\\'), (\\'promise\\', \\'VB\\'), (\\'inmate\\', \\'JJ\\'), (\\'early\\', \\'JJ\\'), (\\'proceedings\\', \\'NNS\\'), (\\'shown\\', \\'VBN\\'), (\\'hanged\\', \\'JJ\\'), (\\'wrists\\', \\'NNS\\'), (\\'getting\\', \\'VBG\\'), (\\'punched\\', \\'VBD\\'), (\\'burly\\', \\'RB\\'), (\\'guard\\', \\'JJ\\'), (\\'One\\', \\'CD\\'), (\\'final\\', \\'JJ\\'), (\\'note\\', \\'NN\\'), (\"movie\\'s\", \\'NN\\'), (\\'low\\', \\'JJ\\'), (\\'budget\\', \\'NN\\'), (\\'painfully\\', \\'RB\\'), (\\'responsible\\', \\'JJ\\'), (\\'lack\\', \\'NN\\'), (\\'extras\\', \\'FW\\'), (\\'Despite\\', \\'IN\\'), (\\'impressive\\', \\'JJ\\'), (\\'size\\', \\'NN\\'), (\\'prison\\', \\'NN\\'), (\\'seems\\', \\'VBZ\\'), (\\'hold\\', \\'VBP\\'), (\\'12\\', \\'CD\\'), (\\'inmates\\', \\'NNS\\'), Tree(\\'PERSON\\', [(\\'Note\\', \\'NNP\\')]), (\\'cast\\', \\'VBD\\'), (\\'credits\\', \\'NNS\\'), (\\'end\\', \\'VBP\\'), (\\'helpful\\', \\'JJ\\'), (\\'record\\', \\'NN\\'), (\\'burly\\', \\'RB\\'), (\\'bald-headed\\', \\'JJ\\'), (\\'guard\\', \\'NN\\'), (\\'uses\\', \\'VBZ\\'), Tree(\\'PERSON\\', [(\\'Jody\\', \\'NNP\\'), (\\'Nolan\\', \\'NNP\\')]), (\\'punching\\', \\'VBG\\'), (\\'bag\\', \\'NN\\'), (\\'played\\', \\'VBD\\'), Tree(\\'PERSON\\', [(\\'Bill\\', \\'NNP\\'), (\\'Fishback\\', \\'NNP\\')]), (\\'young\\', \\'JJ\\'), (\\'fair-haired\\', \\'JJ\\'), (\\'guard\\', \\'NN\\'), (\\'administers\\', \\'NNS\\'), (\\'electric\\', \\'JJ\\'), (\\'shocks\\', \\'NNS\\'), Tree(\\'PERSON\\', [(\\'Tommy\\', \\'NNP\\'), (\\'Lee\\', \\'NNP\\'), (\\'Thomas\\', \\'NNP\\')]), (\\'played\\', \\'VBD\\'), Tree(\\'PERSON\\', [(\\'Marc\\', \\'NNP\\'), (\\'Chenail\\', \\'NNP\\')])])'"
      ]
     },
     "execution_count": 245,
     "metadata": {},
     "output_type": "execute_result"
    }
   ],
   "source": [
    "ner = ne_chunk(pos_tagged[0])\n",
    "ner.__repr__()"
   ]
  },
  {
   "cell_type": "markdown",
   "metadata": {},
   "source": [
    "### NER & Chunking with \"SAPCY\"."
   ]
  },
  {
   "cell_type": "code",
   "execution_count": 271,
   "metadata": {},
   "outputs": [
    {
     "name": "stdout",
     "output_type": "stream",
     "text": [
      "-------Chunks--------\n",
      "OK Anatomie reinvention Horrormovie-Genre\n",
      "Good actors Potente Führmann first nice ideas\n",
      "Maybe would positive ´ german movie cares\n",
      "familiar faces\n",
      "good thrilling story gore good jokes\n",
      "´ see\n",
      "dubbed version course\n",
      "easy watch\n",
      "Germans\n",
      "watch movies\n",
      "´ big problem\n",
      "german subtitles actors\n"
     ]
    }
   ],
   "source": [
    "ner_spacy = en_core_web_sm.load()\n",
    "postags=ner_spacy(' '.join([i for i in alltext]))\n",
    "print('-------Chunks--------')\n",
    "for chunk in postags.noun_chunks:\n",
    "    print(chunk) "
   ]
  },
  {
   "cell_type": "code",
   "execution_count": 294,
   "metadata": {},
   "outputs": [
    {
     "name": "stdout",
     "output_type": "stream",
     "text": [
      "--> Name - Horrormovie-Genre\n",
      "--> Label - PERSON\n",
      "\n",
      "--> Name - Potente Führmann\n",
      "--> Label - PERSON\n",
      "\n",
      "--> Name - ´ german\n",
      "--> Label - NORP\n",
      "\n",
      "--> Name - ´\n",
      "--> Label - ORG\n",
      "\n",
      "--> Name - Germans\n",
      "--> Label - NORP\n",
      "\n",
      "--> Name - german\n",
      "--> Label - NORP\n",
      "\n"
     ]
    }
   ],
   "source": [
    "for i in postags.ents:\n",
    "    print('--> Name - {}\\n--> Label - {}\\n'.format(i.text,i.label_))"
   ]
  },
  {
   "cell_type": "markdown",
   "metadata": {},
   "source": [
    "# Splitting Dataset using sklearn"
   ]
  },
  {
   "cell_type": "markdown",
   "metadata": {},
   "source": [
    "- Splitting the data into train and test sets. The already split train dataset can be again split into train and validation sets.\n",
    "- We usually tend to split the data such that training the model includes 70% of the data and 30% is used for testing the model.\n",
    "- Even using a validation set makes training 60%, validation 15% and testing 25%. These are usually standard and more preferred when having a large dataset."
   ]
  },
  {
   "cell_type": "code",
   "execution_count": 296,
   "metadata": {},
   "outputs": [],
   "source": [
    "train_text,test_text,train_labels,test_labels = train_test_split(lemma_res,all_lables,random_state=3004)"
   ]
  },
  {
   "cell_type": "code",
   "execution_count": 186,
   "metadata": {},
   "outputs": [],
   "source": [
    "# data split. \n",
    "# Feel free to use differnt raios or strategies to split the data.\n",
    "train_text = lemma_res[:35000]\n",
    "train_labels = all_lables[:35000]\n",
    "test_text = lemma_res[35000:]\n",
    "test_labels = all_lables[35000:]"
   ]
  },
  {
   "cell_type": "markdown",
   "metadata": {},
   "source": [
    "# Bag of Words Implementation with Multinomial Naive-Bayes"
   ]
  },
  {
   "cell_type": "code",
   "execution_count": 302,
   "metadata": {},
   "outputs": [
    {
     "name": "stdout",
     "output_type": "stream",
     "text": [
      "acc 0.8389\n",
      "precision 0.8257758407511127\n",
      "recc 0.8257151028604115\n",
      "f1 0.825693932405787\n"
     ]
    }
   ],
   "source": [
    "cvect=CountVectorizer(ngram_range=(1,3),max_features=1000)\n",
    "Xtrain = cvect.fit_transform(train_text).toarray()\n",
    "Xtest = cvect.transform(test_text).toarray()\n",
    "\n",
    "encoder = LabelEncoder()\n",
    "Ytrain = encoder.fit_transform(train_labels)\n",
    "Ytest = encoder.transform(test_labels)\n",
    "\n",
    "mnaive = MultinomialNB()\n",
    "mnaive.fit(Xtrain,Ytrain)\n",
    "\n",
    "Ypred = mnaive.predict(Xtest)\n",
    "cm = confusion_matrix(Ytest,Ypred)\n",
    "\n",
    "pre, rec, f1, _ = precision_recall_fscore_support(Ytest, Ypred, average='macro')\n",
    "print('acc', acc)\n",
    "print('precision', pre)\n",
    "print('recc', rec)\n",
    "print('f1', f1)"
   ]
  },
  {
   "cell_type": "markdown",
   "metadata": {},
   "source": [
    "# TF-IDF Implementation with Multinomial Naive-Bayes"
   ]
  },
  {
   "cell_type": "code",
   "execution_count": 300,
   "metadata": {},
   "outputs": [
    {
     "name": "stdout",
     "output_type": "stream",
     "text": [
      "acc 0.8389\n",
      "precision 0.8389213634145903\n",
      "recc 0.8389079556318225\n",
      "f1 0.8388991477764918\n"
     ]
    }
   ],
   "source": [
    "max_feature_num = 1500\n",
    "train_vectorizer = TfidfVectorizer(max_features=max_feature_num)\n",
    "train_vecs = train_vectorizer.fit_transform(train_text)\n",
    "test_vecs = TfidfVectorizer(max_features=max_feature_num,vocabulary=train_vectorizer.vocabulary_).fit_transform(test_text)\n",
    "# train model\n",
    "\n",
    "mnaive = MultinomialNB()\n",
    "mnaive.fit(train_vecs, train_labels)\n",
    "\n",
    "test_pred = mnaive.predict(test_vecs)\n",
    "\n",
    "cm=confusion_matrix(test_labels, test_pred)\n",
    "acc = accuracy_score(test_labels, test_pred)\n",
    "pre, rec, f1, _ = precision_recall_fscore_support(test_labels, test_pred, average='macro')\n",
    "print('acc', acc)\n",
    "print('precision', pre)\n",
    "print('recc', rec)\n",
    "print('f1', f1)"
   ]
  },
  {
   "cell_type": "markdown",
   "metadata": {},
   "source": [
    "# TF-IDF Implementation with Logistic Regression"
   ]
  },
  {
   "cell_type": "markdown",
   "metadata": {},
   "source": [
    "- Tweaked the parameters of the Logistic regression model to improve the accuracy. Used Cross-Validation, so as to prevent overfitting.\n",
    "- Evaluated the metrics of the model using the best parameter of the model."
   ]
  },
  {
   "cell_type": "code",
   "execution_count": 339,
   "metadata": {},
   "outputs": [
    {
     "name": "stdout",
     "output_type": "stream",
     "text": [
      "Accuracy --> 0.8885\n",
      "precision --> 0.8887137736962285\n",
      "recall --> 0.8885237540950164\n",
      "f1 score --> 0.8884886247246082\n"
     ]
    }
   ],
   "source": [
    "# training: tf-idf + logistic regression\n",
    "# you should explore different representations and algorithms.\n",
    "from sklearn.feature_extraction.text import TfidfVectorizer\n",
    "max_feature_num = 10000\n",
    "train_vectorizer = TfidfVectorizer(ngram_range=(1,3),max_features=max_feature_num)\n",
    "train_vecs = train_vectorizer.fit_transform(train_text)\n",
    "test_vecs = TfidfVectorizer(ngram_range=(1,3),max_features=max_feature_num,vocabulary=train_vectorizer.vocabulary_).fit_transform(test_text)\n",
    "\n",
    "# train model\n",
    "\n",
    "clf = LogisticRegression()\n",
    "param={'C':[0.001,0.01,0.1,1]}\n",
    "g_cv = GridSearchCV(clf,param,cv=5)\n",
    "g_cv.fit(train_vecs, train_labels)\n",
    "\n",
    "# test model\n",
    "test_pred = g_cv.predict(test_vecs)\n",
    "\n",
    "acc = accuracy_score(test_labels, test_pred)\n",
    "pre, rec, f1, _ = precision_recall_fscore_support(test_labels, test_pred, average='macro')\n",
    "print('Accuracy -->', acc)\n",
    "print('precision -->', pre)\n",
    "print('recall -->', rec)\n",
    "print('f1 score -->', f1)"
   ]
  },
  {
   "cell_type": "markdown",
   "metadata": {},
   "source": [
    "# TF-IDF Implementation with SVM"
   ]
  },
  {
   "cell_type": "code",
   "execution_count": null,
   "metadata": {},
   "outputs": [],
   "source": [
    "param_grid={'svc__C':[0.01,0.1,1],'svc__gamma':[0.01,0.1,1]}\n",
    "pipe_minmax = make_pipeline(SVC())\n",
    "grid_minmax=GridSearchCV(pipe_minmax,param_grid=param_grid,cv=5)\n",
    "grid_minmax.fit(train_vecs,train_labels)\n",
    "Ypred=grid_minmax.predict(test_vecs)\n",
    "\n",
    "acc = accuracy_score(test_labels, Ypred)\n",
    "pre, rec, f1, _ = precision_recall_fscore_support(test_labels, test_pred, average='macro')\n",
    "print('Accuracy -->', acc)\n",
    "print('precision -->', pre)\n",
    "print('recall -->', rec)\n",
    "print('f1 score -->', f1)"
   ]
  },
  {
   "cell_type": "markdown",
   "metadata": {},
   "source": [
    "## SAVE YOUR TRAINED MODEL\n",
    "After you have found the best model, save your trained model and other necessary components (e.g. vocabulary, vectorizer) to a file. We will load your model from the saved file and apply your trained model on some held-out test data. **At submission time, you should submit the saved model file and we will NOT re-run your code to train your model; instead, we will directly use your trained model to run test (see notebook *cw1-test.ipynb*)**. \n",
    "\n",
    "Below is a sample code for saving the model (and other necessary components) obtained above, using the *pickle* package in Python. *You should adjust the code to save all the necessary components for re-running your model!*"
   ]
  },
  {
   "cell_type": "code",
   "execution_count": 10,
   "metadata": {},
   "outputs": [
    {
     "ename": "AttributeError",
     "evalue": "'TfidfVectorizer' object has no attribute 'vocabulary_'",
     "output_type": "error",
     "traceback": [
      "\u001b[0;31m---------------------------------------------------------------------------\u001b[0m",
      "\u001b[0;31mAttributeError\u001b[0m                            Traceback (most recent call last)",
      "\u001b[0;32m<ipython-input-10-c3047a14a410>\u001b[0m in \u001b[0;36m<module>\u001b[0;34m\u001b[0m\n\u001b[1;32m     15\u001b[0m all_info_want_to_save = {\n\u001b[1;32m     16\u001b[0m     \u001b[0;34m'model'\u001b[0m\u001b[0;34m:\u001b[0m \u001b[0mg_cv\u001b[0m\u001b[0;34m,\u001b[0m\u001b[0;34m\u001b[0m\u001b[0;34m\u001b[0m\u001b[0m\n\u001b[0;32m---> 17\u001b[0;31m     \u001b[0;34m'vectorizer'\u001b[0m\u001b[0;34m:\u001b[0m \u001b[0mTfidfVectorizer\u001b[0m\u001b[0;34m(\u001b[0m\u001b[0mngram_range\u001b[0m\u001b[0;34m=\u001b[0m\u001b[0;34m(\u001b[0m\u001b[0;36m1\u001b[0m\u001b[0;34m,\u001b[0m\u001b[0;36m3\u001b[0m\u001b[0;34m)\u001b[0m\u001b[0;34m,\u001b[0m\u001b[0mmax_features\u001b[0m\u001b[0;34m=\u001b[0m\u001b[0mmax_feature_num\u001b[0m\u001b[0;34m,\u001b[0m\u001b[0mvocabulary\u001b[0m\u001b[0;34m=\u001b[0m\u001b[0mtrain_vectorizer\u001b[0m\u001b[0;34m.\u001b[0m\u001b[0mvocabulary_\u001b[0m\u001b[0;34m)\u001b[0m\u001b[0;34m\u001b[0m\u001b[0;34m\u001b[0m\u001b[0m\n\u001b[0m\u001b[1;32m     18\u001b[0m }\n\u001b[1;32m     19\u001b[0m \u001b[0;34m\u001b[0m\u001b[0m\n",
      "\u001b[0;31mAttributeError\u001b[0m: 'TfidfVectorizer' object has no attribute 'vocabulary_'"
     ]
    }
   ],
   "source": [
    "import pickle\n",
    "from sklearn.model_selection import GridSearchCV,train_test_split\n",
    "from sklearn.linear_model import LogisticRegression\n",
    "from sklearn.feature_extraction.text import TfidfVectorizer\n",
    "# save model and other necessary modules\n",
    "all_info_want_to_save = {\n",
    "    'model': g_cv,\n",
    "    'vectorizer': TfidfVectorizer(ngram_range=(1,3),max_features=max_feature_num,vocabulary=train_vectorizer.vocabulary_)\n",
    "}\n",
    "\n",
    "with open(\"sample_trained_model.pickle\",\"wb\") as save_path:\n",
    "    pickle.dump(all_info_want_to_save, save_path)"
   ]
  },
  {
   "cell_type": "markdown",
   "metadata": {},
   "source": [
    "In *cw1-test.ipynb*, we provide a sample code to illustrate how to re-load your saved model and apply it to some test data. "
   ]
  },
  {
   "cell_type": "code",
   "execution_count": null,
   "metadata": {},
   "outputs": [],
   "source": [
    "from sklearn.model_selection import GridSearchCV,train_test_split"
   ]
  },
  {
   "cell_type": "code",
   "execution_count": null,
   "metadata": {},
   "outputs": [],
   "source": []
  }
 ],
 "metadata": {
  "kernelspec": {
   "display_name": "Python 3",
   "language": "python",
   "name": "python3"
  },
  "language_info": {
   "codemirror_mode": {
    "name": "ipython",
    "version": 3
   },
   "file_extension": ".py",
   "mimetype": "text/x-python",
   "name": "python",
   "nbconvert_exporter": "python",
   "pygments_lexer": "ipython3",
   "version": "3.8.3"
  }
 },
 "nbformat": 4,
 "nbformat_minor": 2
}
